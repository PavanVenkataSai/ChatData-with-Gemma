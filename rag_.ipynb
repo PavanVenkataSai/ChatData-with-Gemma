{
 "cells": [
  {
   "cell_type": "code",
   "execution_count": 9,
   "metadata": {},
   "outputs": [
    {
     "data": {
      "text/plain": [
       "True"
      ]
     },
     "execution_count": 9,
     "metadata": {},
     "output_type": "execute_result"
    }
   ],
   "source": [
    "from llama_index.core import (\n",
    "    VectorStoreIndex, \n",
    "    SimpleDirectoryReader, \n",
    "    StorageContext, \n",
    "    ServiceContext, \n",
    "    load_index_from_storage\n",
    ")\n",
    "from llama_index.core.node_parser import SemanticSplitterNodeParser\n",
    "from llama_index.embeddings.gemini import GeminiEmbedding\n",
    "from llama_index.llms.groq import Groq\n",
    "from llama_index.postprocessor.cohere_rerank import CohereRerank\n",
    "import os\n",
    "from dotenv import load_dotenv\n",
    "load_dotenv()"
   ]
  },
  {
   "cell_type": "code",
   "execution_count": null,
   "metadata": {},
   "outputs": [],
   "source": []
  },
  {
   "cell_type": "code",
   "execution_count": null,
   "metadata": {},
   "outputs": [
    {
     "name": "stderr",
     "output_type": "stream",
     "text": [
      "WARNING! max_length is not default parameter.\n",
      "                    max_length was transferred to model_kwargs.\n",
      "                    Please make sure that max_length is what you intended.\n",
      "WARNING! prompt is not default parameter.\n",
      "                    prompt was transferred to model_kwargs.\n",
      "                    Please make sure that prompt is what you intended.\n"
     ]
    },
    {
     "name": "stdout",
     "output_type": "stream",
     "text": [
      "Token will not been saved to git credential helper. Pass `add_to_git_credential=True` if you want to set the git credential as well.\n",
      "Token is valid (permission: read).\n",
      "Your token has been saved to C:\\Users\\CVHS\\.cache\\huggingface\\token\n",
      "Login successful\n"
     ]
    }
   ],
   "source": [
    "from langchain_community.llms import HuggingFaceEndpoint\n",
    "\n",
    "repo_id = \"google/gemma-7b-it\"\n",
    "promp = \"\"\"You are an expert in answering questions. Consider the provided context: {context} and answer the question: {question} with proper explanation. Give the answer in proper format.\n",
    "Note: Do not answer the questions which are not related to context\n",
    "\"\"\"\n",
    "\n",
    "llm = HuggingFaceEndpoint(huggingfacehub_api_token='hf_AmNpsRojaRKVZENlGYkw', repo_id=repo_id, max_length=1024, temperature=0.1,prompt = promp\n",
    ")\n"
   ]
  },
  {
   "cell_type": "code",
   "execution_count": 11,
   "metadata": {},
   "outputs": [
    {
     "data": {
      "text/plain": [
       "langchain_community.llms.huggingface_endpoint.HuggingFaceEndpoint"
      ]
     },
     "execution_count": 11,
     "metadata": {},
     "output_type": "execute_result"
    }
   ],
   "source": [
    "type(llm)"
   ]
  },
  {
   "cell_type": "code",
   "execution_count": 12,
   "metadata": {},
   "outputs": [],
   "source": [
    "GOOGLE_API_KEY = os.getenv(\"GEMINI_API_KEY\")\n",
    "GROQ_API_KEY = os.getenv(\"GROQ_API_KEY\")\n",
    "COHERE_API_KEY = os.getenv(\"COHERE_API_KEY\")\n",
    "\n",
    "\n"
   ]
  },
  {
   "cell_type": "code",
   "execution_count": 35,
   "metadata": {},
   "outputs": [
    {
     "name": "stderr",
     "output_type": "stream",
     "text": [
      "Generating embeddings: 100%|██████████| 17/17 [00:14<00:00,  1.18it/s]\n",
      "Generating embeddings: 100%|██████████| 5/5 [00:03<00:00,  1.39it/s]\n",
      "Generating embeddings: 100%|██████████| 6/6 [00:04<00:00,  1.28it/s]\n",
      "Generating embeddings: 100%|██████████| 4/4 [00:03<00:00,  1.29it/s]\n",
      "Generating embeddings: 100%|██████████| 4/4 [00:03<00:00,  1.30it/s]\n",
      "Generating embeddings: 100%|██████████| 4/4 [00:03<00:00,  1.29it/s]\n",
      "Generating embeddings: 100%|██████████| 3/3 [00:02<00:00,  1.49it/s]\n",
      "Parsing nodes: 100%|██████████| 7/7 [00:34<00:00,  4.86s/it]\n",
      "C:\\Users\\CVHS\\AppData\\Local\\Temp\\ipykernel_18216\\676230654.py:21: DeprecationWarning: Call to deprecated class method from_defaults. (ServiceContext is deprecated, please use `llama_index.settings.Settings` instead.) -- Deprecated since version 0.10.0.\n",
      "  service_context = ServiceContext.from_defaults(embed_model=embed_model, llm=llm)\n",
      "Parsing nodes: 100%|██████████| 7/7 [00:00<00:00, 850.62it/s]\n",
      "Generating embeddings: 100%|██████████| 7/7 [00:03<00:00,  2.20it/s]\n"
     ]
    }
   ],
   "source": [
    "reader = SimpleDirectoryReader(input_dir=r\"C:\\Users\\CVHS\\pavan\\Mistral\\Groq\\pdfs\")\n",
    "documents = reader.load_data()\n",
    "\n",
    "embed_model = GeminiEmbedding(\n",
    "    model_name=\"models/embedding-001\", api_key=GOOGLE_API_KEY\n",
    ")\n",
    "splitter = SemanticSplitterNodeParser(\n",
    "    buffer_size=1, \n",
    "    breakpoint_percentile_threshold=95, \n",
    "    embed_model=embed_model\n",
    ")\n",
    "nodes = splitter.get_nodes_from_documents(documents, show_progress=True)\n",
    "\n",
    "prompt = \"\"\"You are an expert in answering questions. Consider the provided context: {context} and answer the question: {question} with proper explanation. Give the answer in proper format.\n",
    "Note: Do not answer the questions which are not related to context\n",
    "\"\"\"\n",
    "# llm.system_prompt = prompt\n",
    "\n",
    "# llm = Groq(model=\"mixtral-8x7b-32768\", api_key=GROQ_API_KEY,system_prompt = prompt)\n",
    "\n",
    "service_context = ServiceContext.from_defaults(embed_model=embed_model, llm=llm)\n",
    "\n",
    "vector_index = VectorStoreIndex.from_documents(documents, show_progress=True, \n",
    "               service_context=service_context, node_parser=nodes)\n",
    "\n",
    "vector_index.storage_context.persist(persist_dir=\"./storage\")\n",
    "storage_context = StorageContext.from_defaults(persist_dir=\"./storage\")\n",
    "\n",
    "index = load_index_from_storage(storage_context, service_context=service_context)\n",
    "\n",
    "cohere_rerank = CohereRerank(api_key=COHERE_API_KEY, top_n=2)\n",
    "\n",
    "query_engine = index.as_query_engine(service_context=service_context,\n",
    "                similarity_top_k=10,\n",
    "                node_postprocessors=[cohere_rerank],)"
   ]
  },
  {
   "cell_type": "code",
   "execution_count": 36,
   "metadata": {},
   "outputs": [
    {
     "name": "stdout",
     "output_type": "stream",
     "text": [
      "[Document(id_='8bac4306-2c56-4ae1-83b3-648c710f73c9', embedding=None, metadata={'page_label': '1', 'file_name': 'JA-063 Brand Transfers  Inquiries for Novartis Patient Support Center.pdf', 'file_path': 'C:\\\\Users\\\\CVHS\\\\pavan\\\\Mistral\\\\Groq\\\\pdfs\\\\JA-063 Brand Transfers  Inquiries for Novartis Patient Support Center.pdf', 'file_type': 'application/pdf', 'file_size': 403801, 'creation_date': '2024-03-27', 'last_modified_date': '2024-03-11'}, excluded_embed_metadata_keys=['file_name', 'file_type', 'file_size', 'creation_date', 'last_modified_date', 'last_accessed_date'], excluded_llm_metadata_keys=['file_name', 'file_type', 'file_size', 'creation_date', 'last_modified_date', 'last_accessed_date'], relationships={}, text='Job Aid for Intake Specialists, Care Navigators & Patient \\nNavigators for Brand Transfer s & Inquiries for Novartis \\nPatient Support Center  \\nPage 1 of 7 \\nThis JA once downloaded  or printed is an uncontrolled copy  and only effective for 24 hrs.  \\nPlease refer to the official WPD  repository for the most current and effective version.  \\nBusiness Use Only  \\n JA Number  Title Version  Effective Date  \\nJA-063 Brand Transfer s & Inquires  01 16FEB2024  \\nCONTENTS  \\n \\n1. PURPOSE AND SCOPE ............................................................................................................... ................... ......... 1  \\n2. TRAINING ................................................................................................................. .......................... .................. .... 1 \\n3. PSC NOVARTIS BRANDS  ............................................................................................................................. ....... 1 -2 \\n4. REPORTING ADVERSE EVENTS FOR OTHER NOVARTIS BRANDS (PSC & NON -PSC) ................................. . 2 \\n5. PROCESS GUIDANCE FOR  INBOUND DOCUMENTS ....................................................................................... 3-4 \\n6. PROCESS GUIDANCE FOR INBOUND CALLS .......................................................................................... ........ 4-5 \\n7. REFERENCE & RELATED DOCUMENTS  ............................................................................................................... 6 \\n \\n1. PURPOSE AND SCOPE  \\nThis document is for the Novartis Patient Support Center (PSC) Intake Specialist , Care Navigator  and Patient \\nNavigator  team. The Job Aid has been created for the Intake Specialists , Care Navigators and Patient Navigators if \\nthey should receive inbound document(s) and/or phone call(s) regarding other PSC Novartis products , non -PSC \\nNovartis products  and/or non -Novartis products.  \\n \\n• List of Novartis Products: Products | Novartis  \\n• Novartis Patient Support Contacts : Patient Assistance Programs | novartis  \\n \\n2. TRAINING  \\n \\nIn addition to the roles listed below, this Job Aid  is applicable for all brands that are onboarded to the PSC.  \\n \\nNPS Role  \\nEntresto Care Navigator  \\nCosentyx Intake Specialist  \\nCosentyx Care Navigator  \\nFabhalta Patient Navigator  \\nRLT Patient Navigator  \\nPerformance Excellence  Analyst  \\n \\n3. PSC NOVARTIS BRANDS  \\nPSC Novartis Brands:  (as of January ‘24 ) \\nBrand ( generic) : Contact Information:  \\nCosentyx (secukinumab)  • Phone Number: 1-844-267-3689  \\no Genesys Shortcut: PSC Cosentyx CN \\nInbound  \\nEntresto (sacubitril/valsartan)  • Phone Number: 1 -888-669-6682  \\no Genesys Shortcut: PSC Entresto \\nEnglish Inbound  \\nFabhalta (iptacopan)  • Phone Number: 1 -833-993-2242  \\no Genesys Shortcut: PSC Fabhalta PN \\nInbound  \\nRadioligand Therapies (RLT): Pluvicto, Lutathera, \\nNetspot & Locametz  • Phone Number: 1 -844-638-7222  \\no Genesys Shortcut: PSC Radioligand \\nTherapy PN Inbound  ', start_char_idx=None, end_char_idx=None, text_template='{metadata_str}\\n\\n{content}', metadata_template='{key}: {value}', metadata_seperator='\\n'), Document(id_='008ac097-74c4-4e2d-b01f-df3f0c565e5f', embedding=None, metadata={'page_label': '2', 'file_name': 'JA-063 Brand Transfers  Inquiries for Novartis Patient Support Center.pdf', 'file_path': 'C:\\\\Users\\\\CVHS\\\\pavan\\\\Mistral\\\\Groq\\\\pdfs\\\\JA-063 Brand Transfers  Inquiries for Novartis Patient Support Center.pdf', 'file_type': 'application/pdf', 'file_size': 403801, 'creation_date': '2024-03-27', 'last_modified_date': '2024-03-11'}, excluded_embed_metadata_keys=['file_name', 'file_type', 'file_size', 'creation_date', 'last_modified_date', 'last_accessed_date'], excluded_llm_metadata_keys=['file_name', 'file_type', 'file_size', 'creation_date', 'last_modified_date', 'last_accessed_date'], relationships={}, text='Job Aid for Intake Specialists, Care Navigators & Patient \\nNavigators for Brand Transfer s & Inquiries for Novartis \\nPatient Support Center  \\nPage 2 of 7 \\nThis JA once downloaded  or printed is an uncontrolled copy  and only effective for 24 hrs.  \\nPlease refer to the official WPD  repository for the most current and effective version.  \\nBusiness Use Only  \\n  3.1 PROCESS GUIDANCE FOR OTHER PSC BRANDS  \\nIF THEN  \\n• Inbound Document is received for  another PSC \\nbrand  • The document should be re -assigned to the \\nappropriate  brand for the appropriate team to \\nprocess  \\n• Phone Call is received for another PSC brand  • For calls received in regards to other PSC brands, \\nthe calls should be warm transferred to the \\nappropriate brand  \\no When transferring in Genesys, select the  \\napplicable  PSC brand’s queue to bypass \\nthe IVR  \\n \\n4. REPORTING ADVERSE EVENTS FOR OTHER NOVARTIS BRANDS  (PSC & NON -PSC)  \\n \\nSample Scenarios  (Entresto & Cosentyx used as examples) : \\n*Reminder : When reporting an Adverse Event (AE), the agent should always document , in the AE \\nreport , verbatim (as much as possible) exactly what the caller states * \\nIF THEN  \\n• A call was made in  error to Entresto,  and the \\npatient is on Cosentyx  • Agent would need to clarify if the patient is potentially \\non both Entresto  and Cosentyx  or if the call was truly \\nmade in error  \\n• A patient is taking Entresto and Cosentyx , \\nbut the call was made to Entresto   • The agent would report  the AE using the Entresto \\nPOPID with Cosentyx  listed as a co -suspect within \\nthe AE report   \\no The Entresto  agent would not need to \\ntransfer the caller to Cosentyx , unless they \\nalso requested to speak to a Cosentyx  agent  \\n• A patient calls Entresto , reports an AE, but \\nthe agent confirmed the patient is only taking \\nCosentyx  • The Entresto agent would report the AE , but would \\nNOT  use the Entresto POPID, it would be a \\nspontaneous AE  \\no The Entresto  agent should ensure they \\nindicate the “POPID is unknown” in the AE \\nreport  \\n• As a best practice  for Novartis PSC brands , the \\nEntresto agent would warm transfer the caller to \\nCosentyx   \\no The Entresto  agent would share the PVI# \\nand the adverse event  with the Cosentyx  \\nagent  \\no The Cosentyx  agent would also report the AE \\nusing the Cosentyx POPID  \\n▪ Additionally, if the caller mentions an \\nAE that was NOT  disclosed/ reported \\nto the Entresto agent, the Cosentyx  \\nagent would need to include it in the \\nAE report  \\n• A patient is on more than one  Novartis \\nproduct  • It is NOT  an automatic reportable AE  to be on more \\nthan one Novartis product . It would be considered a  \\nreportable  AE, if in addition to being on multiple \\nNovartis products, they disclosed  patient harm or \\nother events described as  an AE  in Novartis training  \\n ', start_char_idx=None, end_char_idx=None, text_template='{metadata_str}\\n\\n{content}', metadata_template='{key}: {value}', metadata_seperator='\\n'), Document(id_='ea572315-78ab-4bd4-bece-462d878466ca', embedding=None, metadata={'page_label': '3', 'file_name': 'JA-063 Brand Transfers  Inquiries for Novartis Patient Support Center.pdf', 'file_path': 'C:\\\\Users\\\\CVHS\\\\pavan\\\\Mistral\\\\Groq\\\\pdfs\\\\JA-063 Brand Transfers  Inquiries for Novartis Patient Support Center.pdf', 'file_type': 'application/pdf', 'file_size': 403801, 'creation_date': '2024-03-27', 'last_modified_date': '2024-03-11'}, excluded_embed_metadata_keys=['file_name', 'file_type', 'file_size', 'creation_date', 'last_modified_date', 'last_accessed_date'], excluded_llm_metadata_keys=['file_name', 'file_type', 'file_size', 'creation_date', 'last_modified_date', 'last_accessed_date'], relationships={}, text='Job Aid for Intake Specialists, Care Navigators & Patient \\nNavigators for Brand Transfer s & Inquiries for Novartis \\nPatient Support Center  \\nPage 3 of 7 \\nThis JA once downloaded  or printed is an uncontrolled copy  and only effective for 24 hrs.  \\nPlease refer to the official WPD  repository for the most current and effective version.  \\nBusiness Use Only  \\n 5. PROCESS GUIDANCE FOR INBOUND DOCUMENTS  \\n \\nScenario:  Inbound Document(s) received for Non-Novartis brand  \\n \\nSTEP  PROCESS  \\nDuring Pre -Intake  • Index without any patient information  \\nDuring Intake  • When searching for duplicates, populate one letter \\nin the last name field and check the “No Patient \\nFound” box  \\n• The only information that should  be entered as \\npart of intake are: 1Patient’s Initials (i.e., S.F.) \\n2HCP Information  \\nInbound Parent Case  • Send only the HIPAA coversheet fax to the HCP \\nand in the comments section include the following:  \\no “Please note that a fax was sent to the \\nincorrect location at [Date & Time]  for \\n[Patient Initials] .” \\n▪ No additional patient or HCP \\ninformation should be included in \\nthe comments  and the documents \\nreceived should NOT  be \\nattached/included  \\nAnonymizing the Record  • Once the fax is sent and has a status of \\n“Delivered”, the agent closes any open cases, and \\nanonymizes the patient record  \\n• Create a SNOW ticket for TT Ops to delete the \\ndocument in the S3 bucket [Refer to WI -072] \\n \\n \\nScenario: Inbound Document(s) received for other Novartis brand  (Non -PSC)  \\n \\nSTEP  PROCESS  \\nDuring Pre-Intake  • Index without any patient information  \\nDuring Intake  • When searching for duplicates, populate one letter \\nin the last name field and check the “No Patient \\nFound” box  \\n• The only information that should be entered as \\npart of intake are: 1Patient’s Initials (i.e., S.F.) \\n2HCP Information  \\nInbound Parent  Case  • Send the HIPAA coversheet fax and the \\ndocument(s) received to the other Novartis brand \\nand in the comments section include the following:  \\n• When generating the fax, include the following in \\nthe comments section:  \\no “Please note that a fax was sent to \\nthe incorrect locatio n, forwarding the \\ndocuments to the appropriate team .” ', start_char_idx=None, end_char_idx=None, text_template='{metadata_str}\\n\\n{content}', metadata_template='{key}: {value}', metadata_seperator='\\n'), Document(id_='1fc3149a-331b-461e-96c9-36ea7fdfac02', embedding=None, metadata={'page_label': '4', 'file_name': 'JA-063 Brand Transfers  Inquiries for Novartis Patient Support Center.pdf', 'file_path': 'C:\\\\Users\\\\CVHS\\\\pavan\\\\Mistral\\\\Groq\\\\pdfs\\\\JA-063 Brand Transfers  Inquiries for Novartis Patient Support Center.pdf', 'file_type': 'application/pdf', 'file_size': 403801, 'creation_date': '2024-03-27', 'last_modified_date': '2024-03-11'}, excluded_embed_metadata_keys=['file_name', 'file_type', 'file_size', 'creation_date', 'last_modified_date', 'last_accessed_date'], excluded_llm_metadata_keys=['file_name', 'file_type', 'file_size', 'creation_date', 'last_modified_date', 'last_accessed_date'], relationships={}, text='Job Aid for Intake Specialists, Care Navigators & Patient \\nNavigators for Brand Transfer s & Inquiries for Novartis \\nPatient Support Center  \\nPage 4 of 7 \\nThis JA once downloaded  or printed is an uncontrolled copy  and only effective for 24 hrs.  \\nPlease refer to the official WPD  repository for the most current and effective version.  \\nBusiness Use Only  \\n ▪ No additional patient or HCP \\ninformation should be included in \\nthe comments  \\nAnonymizing the Record  • Once the fax is sent and has a status of \\n“Delivered”, the agent closes the case  any open \\ncases, and anonymizes the patient record  \\n• Create a SNOW ticket for TT Ops to delete the \\ndocument in the S3 bucket [Refer to WI -072] \\n \\nFax Numbers for Other Novartis Brands (Non -PSC):   \\nBrand ( generic) : Contact Information:  \\nIlaris (cana kinumab)  • Fax Number: 1 -866-972-8316  \\nKesimpta  (ofatumumab)  • Fax Number: 1 -833-318-0680  \\nLeqvio (inclisiran)  • Fax Number: 1-877-537-8468  \\nMayzent ( siponimod)  • Fax Number: 1-877-750-9068  \\nNovartis Patient Support for Oncology  • Fax Number:  1-888-891-4924  \\n \\n6. PROCESS GUIDANCE FOR INBOUND CALLS  \\n \\nScenario: Inbound Call received for Non-Novartis brand  \\n \\nSTEP  PROCESS  \\n1 Confirm caller intent  \\nIF THEN  \\n• Prior to a record being created in Salesforce,  \\ncaller states they are calling in regards to a Non -\\nNovartis brand  • The agent should enter “Anonymous Anonymous” \\nfor the first and last name (no additional \\ninformation should be collected/documented)  \\n• Refer the caller back to their HCP or pharmacy to \\nprovide correct contact information for the non -\\nNovartis brand  \\no If any patient/caregiver information was \\ncollected, anonymize the record  \\n• Sample Comment: “IBC in regards to a Non -\\nNovartis medication, referred the caller back to \\ntheir HCP/pharmacy .” \\n• After a record is created in Salesforce,  caller \\nstates they are calling in regards to a Non -\\nNovartis brand  • Refer the caller back to their HCP  or pharmacy  to \\nprovide correct contact information for the non -\\nNovartis brand  \\n• Once the call is complete, the agent should \\ndocument the reason for the call in the case \\ncomment s and note that the record will be \\nanonymized  \\no Sample Comment: “IBC in regards to a \\nNon-Novartis medication, referred the \\ncaller back to their HCP/pharmacy and \\nanonymized the record”  \\n• Anonymize the record in Salesforce  \\n ', start_char_idx=None, end_char_idx=None, text_template='{metadata_str}\\n\\n{content}', metadata_template='{key}: {value}', metadata_seperator='\\n'), Document(id_='93b0897d-5444-4a2a-9c15-400a0bfe0fea', embedding=None, metadata={'page_label': '5', 'file_name': 'JA-063 Brand Transfers  Inquiries for Novartis Patient Support Center.pdf', 'file_path': 'C:\\\\Users\\\\CVHS\\\\pavan\\\\Mistral\\\\Groq\\\\pdfs\\\\JA-063 Brand Transfers  Inquiries for Novartis Patient Support Center.pdf', 'file_type': 'application/pdf', 'file_size': 403801, 'creation_date': '2024-03-27', 'last_modified_date': '2024-03-11'}, excluded_embed_metadata_keys=['file_name', 'file_type', 'file_size', 'creation_date', 'last_modified_date', 'last_accessed_date'], excluded_llm_metadata_keys=['file_name', 'file_type', 'file_size', 'creation_date', 'last_modified_date', 'last_accessed_date'], relationships={}, text='Job Aid for Intake Specialists, Care Navigators & Patient \\nNavigators for Brand Transfer s & Inquiries for Novartis \\nPatient Support Center  \\nPage 5 of 7 \\nThis JA once downloaded  or printed is an uncontrolled copy  and only effective for 24 hrs.  \\nPlease refer to the official WPD  repository for the most current and effective version.  \\nBusiness Use Only  \\n  \\nScenario: Inbound Call received for other Novartis brand  (Non -PSC)  \\n \\nSTEP  PROCESS  \\n1 Confirm caller intent  \\nIF THEN  \\n• Prior to a record being created in Salesforce,  \\nthe caller states they are calling in regards to a \\nNon-PSC Novartis brand  • The agent should enter “Anonymous Anonymous” \\nfor the first and last name (no additional \\ninformation should be collected/documented)  \\n• If we have the brand’s phone number, provide it \\nand offer to cold transfer  \\n• If we do NOT  have the brand’s phone number , \\nclarify if the caller is looking for a specific \\ndepartment (i.e., CIC, MIC or NPAF). If caller is \\nunsure, offer to provide the CIC phone number \\nand warm transfer  \\n• If for any reason, patient/caregiver information \\nwas collected, anonymize the record  \\n• Sample Comment: “IBC in regards to a Non -\\nNovartis medication, referred the caller back to \\ntheir HCP/pharmacy.”  \\n• After a record is created in Salesforce , the \\ncaller  states they are calling in regards to a Non -\\nPSC Novartis brand  • Provide the phone number for the other Novartis \\nbrand and offer to cold transfer  \\n• Once the call is complete, the agent should \\ndocument the reason for the call in the case \\ncomments and note that the record will be \\nanonymized  \\no Sample Comment: “IBC in regards to a \\nNon-Novartis medication, referred the \\ncaller back to their HCP/pharmacy and \\nanonymized the record”  \\n• Anonymize the record in Salesforce  \\n \\n \\n \\n \\n \\n \\n \\n \\n \\n \\n \\n \\n \\n \\n \\n \\n \\n \\n ', start_char_idx=None, end_char_idx=None, text_template='{metadata_str}\\n\\n{content}', metadata_template='{key}: {value}', metadata_seperator='\\n'), Document(id_='3e8d389d-2c4d-473c-bda4-dcdbe4d723a8', embedding=None, metadata={'page_label': '6', 'file_name': 'JA-063 Brand Transfers  Inquiries for Novartis Patient Support Center.pdf', 'file_path': 'C:\\\\Users\\\\CVHS\\\\pavan\\\\Mistral\\\\Groq\\\\pdfs\\\\JA-063 Brand Transfers  Inquiries for Novartis Patient Support Center.pdf', 'file_type': 'application/pdf', 'file_size': 403801, 'creation_date': '2024-03-27', 'last_modified_date': '2024-03-11'}, excluded_embed_metadata_keys=['file_name', 'file_type', 'file_size', 'creation_date', 'last_modified_date', 'last_accessed_date'], excluded_llm_metadata_keys=['file_name', 'file_type', 'file_size', 'creation_date', 'last_modified_date', 'last_accessed_date'], relationships={}, text='Job Aid for Intake Specialists, Care Navigators & Patient \\nNavigators for Brand Transfer s & Inquiries for Novartis \\nPatient Support Center  \\nPage 6 of 7 \\nThis JA once downloaded  or printed is an uncontrolled copy  and only effective for 24 hrs.  \\nPlease refer to the official WPD  repository for the most current and effective version.  \\nBusiness Use Only  \\n 7. REFERENCE & RELATED DOCUMENTS  \\n*The below list is accurate as of the approval of this document, please refer to the WPD repository for all current \\ndocuments*  \\nDocument #  Name  \\nJA-005 Data Int ake for Cosentyx  \\nJA-033 Data Intake for RLT  \\nJA-043 Fabhalta Data Intake & Missing Information  \\nJA-051  Pre-Intake for Cosentyx  \\nWI-001 Intake for Cosentyx  \\nWI-018 Caller Lookup & Customer Record Creation  \\nWI-028 Reporting a PAE/PTC  \\nWI-072 Pre-Intake  \\nWI-075 Intake for RLT  \\nWI-088 Intake for Fabhalta  \\nWPD -PSS-CEC -001 Potential Adverse Event, Special Scenarios and Technical Complaint  \\n \\n \\n \\n \\n \\n \\n \\n \\n \\n \\n \\n \\n \\n \\n \\n \\n ', start_char_idx=None, end_char_idx=None, text_template='{metadata_str}\\n\\n{content}', metadata_template='{key}: {value}', metadata_seperator='\\n'), Document(id_='39afdd85-de0f-4d15-b58e-5907824ed79d', embedding=None, metadata={'page_label': '7', 'file_name': 'JA-063 Brand Transfers  Inquiries for Novartis Patient Support Center.pdf', 'file_path': 'C:\\\\Users\\\\CVHS\\\\pavan\\\\Mistral\\\\Groq\\\\pdfs\\\\JA-063 Brand Transfers  Inquiries for Novartis Patient Support Center.pdf', 'file_type': 'application/pdf', 'file_size': 403801, 'creation_date': '2024-03-27', 'last_modified_date': '2024-03-11'}, excluded_embed_metadata_keys=['file_name', 'file_type', 'file_size', 'creation_date', 'last_modified_date', 'last_accessed_date'], excluded_llm_metadata_keys=['file_name', 'file_type', 'file_size', 'creation_date', 'last_modified_date', 'last_accessed_date'], relationships={}, text='Job Aid for Intake Specialists, Care Navigators & Patient \\nNavigators for Brand Transfer s & Inquiries for Novartis \\nPatient Support Center  \\nPage 7 of 7 \\nThis JA once downloaded  or printed is an uncontrolled copy  and only effective for 24 hrs.  \\nPlease refer to the official WPD  repository for the most current and effective version.  \\nBusiness Use Only  \\n Approvals  \\nRole  Name  Signature  \\nAuthor  Kelsee Fleck   \\n \\n \\n \\nPSC Approver  Sam Ibrahim   \\n \\n \\n \\nPSC Approver  Juan De Los Angeles   \\n \\n \\n \\n \\nJA Version History  \\nVersion #  Description of Change  Author  Version Date  \\n(DDMMMYYYY)  \\n01 New Kelsee Fleck  16FEB2024  \\n ', start_char_idx=None, end_char_idx=None, text_template='{metadata_str}\\n\\n{content}', metadata_template='{key}: {value}', metadata_seperator='\\n')]\n"
     ]
    }
   ],
   "source": [
    "print(documents)"
   ]
  },
  {
   "cell_type": "code",
   "execution_count": 37,
   "metadata": {},
   "outputs": [
    {
     "data": {
      "text/plain": [
       "[TextNode(id_='32d486fe-8116-4be2-aaef-52454bc51710', embedding=None, metadata={'page_label': '1', 'file_name': 'JA-063 Brand Transfers  Inquiries for Novartis Patient Support Center.pdf', 'file_path': 'C:\\\\Users\\\\CVHS\\\\pavan\\\\Mistral\\\\Groq\\\\pdfs\\\\JA-063 Brand Transfers  Inquiries for Novartis Patient Support Center.pdf', 'file_type': 'application/pdf', 'file_size': 403801, 'creation_date': '2024-03-27', 'last_modified_date': '2024-03-11'}, excluded_embed_metadata_keys=['file_name', 'file_type', 'file_size', 'creation_date', 'last_modified_date', 'last_accessed_date'], excluded_llm_metadata_keys=['file_name', 'file_type', 'file_size', 'creation_date', 'last_modified_date', 'last_accessed_date'], relationships={<NodeRelationship.SOURCE: '1'>: RelatedNodeInfo(node_id='8bac4306-2c56-4ae1-83b3-648c710f73c9', node_type=<ObjectType.DOCUMENT: '4'>, metadata={'page_label': '1', 'file_name': 'JA-063 Brand Transfers  Inquiries for Novartis Patient Support Center.pdf', 'file_path': 'C:\\\\Users\\\\CVHS\\\\pavan\\\\Mistral\\\\Groq\\\\pdfs\\\\JA-063 Brand Transfers  Inquiries for Novartis Patient Support Center.pdf', 'file_type': 'application/pdf', 'file_size': 403801, 'creation_date': '2024-03-27', 'last_modified_date': '2024-03-11'}, hash='5c6a3de327dc4c8d76579c050eeed5d6a3cf30ae5d1064984f40b4ea345e9734'), <NodeRelationship.NEXT: '3'>: RelatedNodeInfo(node_id='c95e210a-cd6b-40ec-a8ca-1ace0d90430c', node_type=<ObjectType.TEXT: '1'>, metadata={}, hash='37dece798fe82db1583b783d01530b2ca4a2c7c0eed60ae810765ce8a9fc3e4f')}, text='Job Aid for Intake Specialists, Care Navigators & Patient \\nNavigators for Brand Transfer s & Inquiries for Novartis \\nPatient Support Center  \\nPage 1 of 7 \\nThis JA once downloaded  or printed is an uncontrolled copy  and only effective for 24 hrs.  \\nPlease refer to the official WPD  repository for the most current and effective version.  \\nBusiness Use Only  \\n JA Number  Title Version  Effective Date  \\nJA-063 Brand Transfer s & Inquires  01 16FEB2024  \\nCONTENTS  \\n \\n1. PURPOSE AND SCOPE ............................................................................................................... ................... ......... 1  \\n2. TRAINING ................................................................................................................. .......................... .................. .... 1 \\n3. PSC NOVARTIS BRANDS  ............................................................................................................................. ....... 1 -2 \\n4. REPORTING ADVERSE EVENTS FOR OTHER NOVARTIS BRANDS (PSC & NON -PSC) ................................. . 2 \\n5. PROCESS GUIDANCE FOR  INBOUND DOCUMENTS ....................................................................................... 3-4 \\n6. PROCESS GUIDANCE FOR INBOUND CALLS .......................................................................................... ........ 4-5 \\n7. ', start_char_idx=0, end_char_idx=1371, text_template='{metadata_str}\\n\\n{content}', metadata_template='{key}: {value}', metadata_seperator='\\n'),\n",
       " TextNode(id_='c95e210a-cd6b-40ec-a8ca-1ace0d90430c', embedding=None, metadata={'page_label': '1', 'file_name': 'JA-063 Brand Transfers  Inquiries for Novartis Patient Support Center.pdf', 'file_path': 'C:\\\\Users\\\\CVHS\\\\pavan\\\\Mistral\\\\Groq\\\\pdfs\\\\JA-063 Brand Transfers  Inquiries for Novartis Patient Support Center.pdf', 'file_type': 'application/pdf', 'file_size': 403801, 'creation_date': '2024-03-27', 'last_modified_date': '2024-03-11'}, excluded_embed_metadata_keys=['file_name', 'file_type', 'file_size', 'creation_date', 'last_modified_date', 'last_accessed_date'], excluded_llm_metadata_keys=['file_name', 'file_type', 'file_size', 'creation_date', 'last_modified_date', 'last_accessed_date'], relationships={<NodeRelationship.SOURCE: '1'>: RelatedNodeInfo(node_id='8bac4306-2c56-4ae1-83b3-648c710f73c9', node_type=<ObjectType.DOCUMENT: '4'>, metadata={'page_label': '1', 'file_name': 'JA-063 Brand Transfers  Inquiries for Novartis Patient Support Center.pdf', 'file_path': 'C:\\\\Users\\\\CVHS\\\\pavan\\\\Mistral\\\\Groq\\\\pdfs\\\\JA-063 Brand Transfers  Inquiries for Novartis Patient Support Center.pdf', 'file_type': 'application/pdf', 'file_size': 403801, 'creation_date': '2024-03-27', 'last_modified_date': '2024-03-11'}, hash='5c6a3de327dc4c8d76579c050eeed5d6a3cf30ae5d1064984f40b4ea345e9734'), <NodeRelationship.PREVIOUS: '2'>: RelatedNodeInfo(node_id='32d486fe-8116-4be2-aaef-52454bc51710', node_type=<ObjectType.TEXT: '1'>, metadata={'page_label': '1', 'file_name': 'JA-063 Brand Transfers  Inquiries for Novartis Patient Support Center.pdf', 'file_path': 'C:\\\\Users\\\\CVHS\\\\pavan\\\\Mistral\\\\Groq\\\\pdfs\\\\JA-063 Brand Transfers  Inquiries for Novartis Patient Support Center.pdf', 'file_type': 'application/pdf', 'file_size': 403801, 'creation_date': '2024-03-27', 'last_modified_date': '2024-03-11'}, hash='54f0458d5b7f6ba86725f711342064e09ded8789ca0b00b4b1c07c2bc922f7af'), <NodeRelationship.NEXT: '3'>: RelatedNodeInfo(node_id='cfe5908a-d473-44c3-a362-8230faaf7149', node_type=<ObjectType.TEXT: '1'>, metadata={}, hash='be709be61dfcb1e513db15732cc3a5106d2b952d609bad36f1cf85ff3710fa67')}, text='REFERENCE & RELATED DOCUMENTS  ............................................................................................................... 6 \\n \\n1. PURPOSE AND SCOPE  \\nThis document is for the Novartis Patient Support Center (PSC) Intake Specialist , Care Navigator  and Patient \\nNavigator  team. The Job Aid has been created for the Intake Specialists , Care Navigators and Patient Navigators if \\nthey should receive inbound document(s) and/or phone call(s) regarding other PSC Novartis products , non -PSC \\nNovartis products  and/or non -Novartis products.  \\n \\n• List of Novartis Products: Products | Novartis  \\n• Novartis Patient Support Contacts : Patient Assistance Programs | novartis  \\n \\n2. TRAINING  \\n \\nIn addition to the roles listed below, this Job Aid  is applicable for all brands that are onboarded to the PSC.  \\n \\nNPS Role  \\nEntresto Care Navigator  \\nCosentyx Intake Specialist  \\nCosentyx Care Navigator  \\nFabhalta Patient Navigator  \\nRLT Patient Navigator  \\nPerformance Excellence  Analyst  \\n \\n3. PSC NOVARTIS BRANDS  \\nPSC Novartis Brands:  (as of January ‘24 ) \\nBrand ( generic) : Contact Information:  \\nCosentyx (secukinumab)  • Phone Number: 1-844-267-3689  \\no Genesys Shortcut: PSC Cosentyx CN \\nInbound  \\nEntresto (sacubitril/valsartan)  • Phone Number: 1 -888-669-6682  \\no Genesys Shortcut: PSC Entresto \\nEnglish Inbound  \\nFabhalta (iptacopan)  • Phone Number: 1 -833-993-2242  \\no Genesys Shortcut: PSC Fabhalta PN \\nInbound  \\nRadioligand Therapies (RLT): Pluvicto, Lutathera, \\nNetspot & Locametz  • Phone Number: 1 -844-638-7222  \\no Genesys Shortcut: PSC Radioligand \\nTherapy PN Inbound  ', start_char_idx=1371, end_char_idx=2982, text_template='{metadata_str}\\n\\n{content}', metadata_template='{key}: {value}', metadata_seperator='\\n'),\n",
       " TextNode(id_='cfe5908a-d473-44c3-a362-8230faaf7149', embedding=None, metadata={'page_label': '2', 'file_name': 'JA-063 Brand Transfers  Inquiries for Novartis Patient Support Center.pdf', 'file_path': 'C:\\\\Users\\\\CVHS\\\\pavan\\\\Mistral\\\\Groq\\\\pdfs\\\\JA-063 Brand Transfers  Inquiries for Novartis Patient Support Center.pdf', 'file_type': 'application/pdf', 'file_size': 403801, 'creation_date': '2024-03-27', 'last_modified_date': '2024-03-11'}, excluded_embed_metadata_keys=['file_name', 'file_type', 'file_size', 'creation_date', 'last_modified_date', 'last_accessed_date'], excluded_llm_metadata_keys=['file_name', 'file_type', 'file_size', 'creation_date', 'last_modified_date', 'last_accessed_date'], relationships={<NodeRelationship.SOURCE: '1'>: RelatedNodeInfo(node_id='008ac097-74c4-4e2d-b01f-df3f0c565e5f', node_type=<ObjectType.DOCUMENT: '4'>, metadata={'page_label': '2', 'file_name': 'JA-063 Brand Transfers  Inquiries for Novartis Patient Support Center.pdf', 'file_path': 'C:\\\\Users\\\\CVHS\\\\pavan\\\\Mistral\\\\Groq\\\\pdfs\\\\JA-063 Brand Transfers  Inquiries for Novartis Patient Support Center.pdf', 'file_type': 'application/pdf', 'file_size': 403801, 'creation_date': '2024-03-27', 'last_modified_date': '2024-03-11'}, hash='65113e3561b43dd5c127807e129bb836cee157d9cf927ae7a5b152ed1ce72b9b'), <NodeRelationship.PREVIOUS: '2'>: RelatedNodeInfo(node_id='c95e210a-cd6b-40ec-a8ca-1ace0d90430c', node_type=<ObjectType.TEXT: '1'>, metadata={'page_label': '1', 'file_name': 'JA-063 Brand Transfers  Inquiries for Novartis Patient Support Center.pdf', 'file_path': 'C:\\\\Users\\\\CVHS\\\\pavan\\\\Mistral\\\\Groq\\\\pdfs\\\\JA-063 Brand Transfers  Inquiries for Novartis Patient Support Center.pdf', 'file_type': 'application/pdf', 'file_size': 403801, 'creation_date': '2024-03-27', 'last_modified_date': '2024-03-11'}, hash='2ab9993187cb6501469a7bfbd371ca95f0959c32eadc3070a37494427390b5df'), <NodeRelationship.NEXT: '3'>: RelatedNodeInfo(node_id='eee73327-f55f-482d-b509-e05782427c1f', node_type=<ObjectType.TEXT: '1'>, metadata={}, hash='0aaf43c3ee9b01f1b4ae6d2d12a29e57af3e5a1090ffb236b9748a4e31c75c51')}, text='Job Aid for Intake Specialists, Care Navigators & Patient \\nNavigators for Brand Transfer s & Inquiries for Novartis \\nPatient Support Center  \\nPage 2 of 7 \\nThis JA once downloaded  or printed is an uncontrolled copy  and only effective for 24 hrs.  \\nPlease refer to the official WPD  repository for the most current and effective version.  \\n', start_char_idx=0, end_char_idx=340, text_template='{metadata_str}\\n\\n{content}', metadata_template='{key}: {value}', metadata_seperator='\\n'),\n",
       " TextNode(id_='eee73327-f55f-482d-b509-e05782427c1f', embedding=None, metadata={'page_label': '2', 'file_name': 'JA-063 Brand Transfers  Inquiries for Novartis Patient Support Center.pdf', 'file_path': 'C:\\\\Users\\\\CVHS\\\\pavan\\\\Mistral\\\\Groq\\\\pdfs\\\\JA-063 Brand Transfers  Inquiries for Novartis Patient Support Center.pdf', 'file_type': 'application/pdf', 'file_size': 403801, 'creation_date': '2024-03-27', 'last_modified_date': '2024-03-11'}, excluded_embed_metadata_keys=['file_name', 'file_type', 'file_size', 'creation_date', 'last_modified_date', 'last_accessed_date'], excluded_llm_metadata_keys=['file_name', 'file_type', 'file_size', 'creation_date', 'last_modified_date', 'last_accessed_date'], relationships={<NodeRelationship.SOURCE: '1'>: RelatedNodeInfo(node_id='008ac097-74c4-4e2d-b01f-df3f0c565e5f', node_type=<ObjectType.DOCUMENT: '4'>, metadata={'page_label': '2', 'file_name': 'JA-063 Brand Transfers  Inquiries for Novartis Patient Support Center.pdf', 'file_path': 'C:\\\\Users\\\\CVHS\\\\pavan\\\\Mistral\\\\Groq\\\\pdfs\\\\JA-063 Brand Transfers  Inquiries for Novartis Patient Support Center.pdf', 'file_type': 'application/pdf', 'file_size': 403801, 'creation_date': '2024-03-27', 'last_modified_date': '2024-03-11'}, hash='65113e3561b43dd5c127807e129bb836cee157d9cf927ae7a5b152ed1ce72b9b'), <NodeRelationship.PREVIOUS: '2'>: RelatedNodeInfo(node_id='cfe5908a-d473-44c3-a362-8230faaf7149', node_type=<ObjectType.TEXT: '1'>, metadata={'page_label': '2', 'file_name': 'JA-063 Brand Transfers  Inquiries for Novartis Patient Support Center.pdf', 'file_path': 'C:\\\\Users\\\\CVHS\\\\pavan\\\\Mistral\\\\Groq\\\\pdfs\\\\JA-063 Brand Transfers  Inquiries for Novartis Patient Support Center.pdf', 'file_type': 'application/pdf', 'file_size': 403801, 'creation_date': '2024-03-27', 'last_modified_date': '2024-03-11'}, hash='31a84b7366e01bfb666c91ed32ac0f128ed17ce9321b74dc67c631b8dbe2bb16'), <NodeRelationship.NEXT: '3'>: RelatedNodeInfo(node_id='f8150bf0-dc56-4839-a013-5d29246721a5', node_type=<ObjectType.TEXT: '1'>, metadata={}, hash='18c2fe88964c5dfb4c281998345e9813d4ea5914e107dc1dcf4adfd60d600d40')}, text='Business Use Only  \\n  3.1 PROCESS GUIDANCE FOR OTHER PSC BRANDS  \\nIF THEN  \\n• Inbound Document is received for  another PSC \\nbrand  • The document should be re -assigned to the \\nappropriate  brand for the appropriate team to \\nprocess  \\n• Phone Call is received for another PSC brand  • For calls received in regards to other PSC brands, \\nthe calls should be warm transferred to the \\nappropriate brand  \\no When transferring in Genesys, select the  \\napplicable  PSC brand’s queue to bypass \\nthe IVR  \\n \\n4. REPORTING ADVERSE EVENTS FOR OTHER NOVARTIS BRANDS  (PSC & NON -PSC)  \\n \\nSample Scenarios  (Entresto & Cosentyx used as examples) : \\n*Reminder : When reporting an Adverse Event (AE), the agent should always document , in the AE \\nreport , verbatim (as much as possible) exactly what the caller states * \\nIF THEN  \\n• A call was made in  error to Entresto,  and the \\npatient is on Cosentyx  • Agent would need to clarify if the patient is potentially \\non both Entresto  and Cosentyx  or if the call was truly \\nmade in error  \\n• A patient is taking Entresto and Cosentyx , \\nbut the call was made to Entresto   • The agent would report  the AE using the Entresto \\nPOPID with Cosentyx  listed as a co -suspect within \\nthe AE report   \\no The Entresto  agent would not need to \\ntransfer the caller to Cosentyx , unless they \\nalso requested to speak to a Cosentyx  agent  \\n• A patient calls Entresto , reports an AE, but \\nthe agent confirmed the patient is only taking \\nCosentyx  • The Entresto agent would report the AE , but would \\nNOT  use the Entresto POPID, it would be a \\nspontaneous AE  \\no The Entresto  agent should ensure they \\nindicate the “POPID is unknown” in the AE \\nreport  \\n• As a best practice  for Novartis PSC brands , the \\nEntresto agent would warm transfer the caller to \\nCosentyx   \\no The Entresto  agent would share the PVI# \\nand the adverse event  with the Cosentyx  \\nagent  \\no The Cosentyx  agent would also report the AE \\nusing the Cosentyx POPID  \\n▪ Additionally, if the caller mentions an \\nAE that was NOT  disclosed/ reported \\nto the Entresto agent, the Cosentyx  \\nagent would need to include it in the \\nAE report  \\n• A patient is on more than one  Novartis \\nproduct  • It is NOT  an automatic reportable AE  to be on more \\nthan one Novartis product . It would be considered a  \\nreportable  AE, if in addition to being on multiple \\nNovartis products, they disclosed  patient harm or \\nother events described as  an AE  in Novartis training  \\n ', start_char_idx=340, end_char_idx=2805, text_template='{metadata_str}\\n\\n{content}', metadata_template='{key}: {value}', metadata_seperator='\\n'),\n",
       " TextNode(id_='f8150bf0-dc56-4839-a013-5d29246721a5', embedding=None, metadata={'page_label': '3', 'file_name': 'JA-063 Brand Transfers  Inquiries for Novartis Patient Support Center.pdf', 'file_path': 'C:\\\\Users\\\\CVHS\\\\pavan\\\\Mistral\\\\Groq\\\\pdfs\\\\JA-063 Brand Transfers  Inquiries for Novartis Patient Support Center.pdf', 'file_type': 'application/pdf', 'file_size': 403801, 'creation_date': '2024-03-27', 'last_modified_date': '2024-03-11'}, excluded_embed_metadata_keys=['file_name', 'file_type', 'file_size', 'creation_date', 'last_modified_date', 'last_accessed_date'], excluded_llm_metadata_keys=['file_name', 'file_type', 'file_size', 'creation_date', 'last_modified_date', 'last_accessed_date'], relationships={<NodeRelationship.SOURCE: '1'>: RelatedNodeInfo(node_id='ea572315-78ab-4bd4-bece-462d878466ca', node_type=<ObjectType.DOCUMENT: '4'>, metadata={'page_label': '3', 'file_name': 'JA-063 Brand Transfers  Inquiries for Novartis Patient Support Center.pdf', 'file_path': 'C:\\\\Users\\\\CVHS\\\\pavan\\\\Mistral\\\\Groq\\\\pdfs\\\\JA-063 Brand Transfers  Inquiries for Novartis Patient Support Center.pdf', 'file_type': 'application/pdf', 'file_size': 403801, 'creation_date': '2024-03-27', 'last_modified_date': '2024-03-11'}, hash='adf1ab068fb8d12f4a92e822d869d3bca1300561b04d2c342f9421d800acd870'), <NodeRelationship.PREVIOUS: '2'>: RelatedNodeInfo(node_id='eee73327-f55f-482d-b509-e05782427c1f', node_type=<ObjectType.TEXT: '1'>, metadata={'page_label': '2', 'file_name': 'JA-063 Brand Transfers  Inquiries for Novartis Patient Support Center.pdf', 'file_path': 'C:\\\\Users\\\\CVHS\\\\pavan\\\\Mistral\\\\Groq\\\\pdfs\\\\JA-063 Brand Transfers  Inquiries for Novartis Patient Support Center.pdf', 'file_type': 'application/pdf', 'file_size': 403801, 'creation_date': '2024-03-27', 'last_modified_date': '2024-03-11'}, hash='b89a79ec51998332affa9853b763f250d99a147af2e0c1d1e3a3341244dc78e5'), <NodeRelationship.NEXT: '3'>: RelatedNodeInfo(node_id='4a553a28-3362-4e29-9b80-8c8243f46e07', node_type=<ObjectType.TEXT: '1'>, metadata={}, hash='11c2f796bf4c063c67b0099cba9576a79d8b59c1b80fadddecb29683b873d2bf')}, text='Job Aid for Intake Specialists, Care Navigators & Patient \\nNavigators for Brand Transfer s & Inquiries for Novartis \\nPatient Support Center  \\nPage 3 of 7 \\nThis JA once downloaded  or printed is an uncontrolled copy  and only effective for 24 hrs.  \\nPlease refer to the official WPD  repository for the most current and effective version.  \\n', start_char_idx=0, end_char_idx=340, text_template='{metadata_str}\\n\\n{content}', metadata_template='{key}: {value}', metadata_seperator='\\n'),\n",
       " TextNode(id_='4a553a28-3362-4e29-9b80-8c8243f46e07', embedding=None, metadata={'page_label': '3', 'file_name': 'JA-063 Brand Transfers  Inquiries for Novartis Patient Support Center.pdf', 'file_path': 'C:\\\\Users\\\\CVHS\\\\pavan\\\\Mistral\\\\Groq\\\\pdfs\\\\JA-063 Brand Transfers  Inquiries for Novartis Patient Support Center.pdf', 'file_type': 'application/pdf', 'file_size': 403801, 'creation_date': '2024-03-27', 'last_modified_date': '2024-03-11'}, excluded_embed_metadata_keys=['file_name', 'file_type', 'file_size', 'creation_date', 'last_modified_date', 'last_accessed_date'], excluded_llm_metadata_keys=['file_name', 'file_type', 'file_size', 'creation_date', 'last_modified_date', 'last_accessed_date'], relationships={<NodeRelationship.SOURCE: '1'>: RelatedNodeInfo(node_id='ea572315-78ab-4bd4-bece-462d878466ca', node_type=<ObjectType.DOCUMENT: '4'>, metadata={'page_label': '3', 'file_name': 'JA-063 Brand Transfers  Inquiries for Novartis Patient Support Center.pdf', 'file_path': 'C:\\\\Users\\\\CVHS\\\\pavan\\\\Mistral\\\\Groq\\\\pdfs\\\\JA-063 Brand Transfers  Inquiries for Novartis Patient Support Center.pdf', 'file_type': 'application/pdf', 'file_size': 403801, 'creation_date': '2024-03-27', 'last_modified_date': '2024-03-11'}, hash='adf1ab068fb8d12f4a92e822d869d3bca1300561b04d2c342f9421d800acd870'), <NodeRelationship.PREVIOUS: '2'>: RelatedNodeInfo(node_id='f8150bf0-dc56-4839-a013-5d29246721a5', node_type=<ObjectType.TEXT: '1'>, metadata={'page_label': '3', 'file_name': 'JA-063 Brand Transfers  Inquiries for Novartis Patient Support Center.pdf', 'file_path': 'C:\\\\Users\\\\CVHS\\\\pavan\\\\Mistral\\\\Groq\\\\pdfs\\\\JA-063 Brand Transfers  Inquiries for Novartis Patient Support Center.pdf', 'file_type': 'application/pdf', 'file_size': 403801, 'creation_date': '2024-03-27', 'last_modified_date': '2024-03-11'}, hash='13dae0d4dc085a147301f5e280b879b6f5372ec6530db20c71803f10191a8bf5'), <NodeRelationship.NEXT: '3'>: RelatedNodeInfo(node_id='f0016abc-af3a-43b8-afa6-025e36bab05c', node_type=<ObjectType.TEXT: '1'>, metadata={}, hash='6c515b987ffab21ef6e829efc3bf2f98d436eb0484bf89499dad1763409898da')}, text='Business Use Only  \\n 5. PROCESS GUIDANCE FOR INBOUND DOCUMENTS  \\n \\nScenario:  Inbound Document(s) received for Non-Novartis brand  \\n \\nSTEP  PROCESS  \\nDuring Pre -Intake  • Index without any patient information  \\nDuring Intake  • When searching for duplicates, populate one letter \\nin the last name field and check the “No Patient \\nFound” box  \\n• The only information that should  be entered as \\npart of intake are: 1Patient’s Initials (i.e., S.F.) \\n2HCP Information  \\nInbound Parent Case  • Send only the HIPAA coversheet fax to the HCP \\nand in the comments section include the following:  \\no “Please note that a fax was sent to the \\nincorrect location at [Date & Time]  for \\n[Patient Initials] .” \\n▪ No additional patient or HCP \\ninformation should be included in \\nthe comments  and the documents \\nreceived should NOT  be \\nattached/included  \\nAnonymizing the Record  • Once the fax is sent and has a status of \\n“Delivered”, the agent closes any open cases, and \\nanonymizes the patient record  \\n• Create a SNOW ticket for TT Ops to delete the \\ndocument in the S3 bucket [Refer to WI -072] \\n \\n \\nScenario: Inbound Document(s) received for other Novartis brand  (Non -PSC)  \\n \\nSTEP  PROCESS  \\nDuring Pre-Intake  • Index without any patient information  \\nDuring Intake  • When searching for duplicates, populate one letter \\nin the last name field and check the “No Patient \\nFound” box  \\n• The only information that should be entered as \\npart of intake are: 1Patient’s Initials (i.e., S.F.) \\n2HCP Information  \\nInbound Parent  Case  • Send the HIPAA coversheet fax and the \\ndocument(s) received to the other Novartis brand \\nand in the comments section include the following:  \\n• When generating the fax, include the following in \\nthe comments section:  \\no “Please note that a fax was sent to \\nthe incorrect locatio n, forwarding the \\ndocuments to the appropriate team .” ', start_char_idx=340, end_char_idx=2206, text_template='{metadata_str}\\n\\n{content}', metadata_template='{key}: {value}', metadata_seperator='\\n'),\n",
       " TextNode(id_='f0016abc-af3a-43b8-afa6-025e36bab05c', embedding=None, metadata={'page_label': '4', 'file_name': 'JA-063 Brand Transfers  Inquiries for Novartis Patient Support Center.pdf', 'file_path': 'C:\\\\Users\\\\CVHS\\\\pavan\\\\Mistral\\\\Groq\\\\pdfs\\\\JA-063 Brand Transfers  Inquiries for Novartis Patient Support Center.pdf', 'file_type': 'application/pdf', 'file_size': 403801, 'creation_date': '2024-03-27', 'last_modified_date': '2024-03-11'}, excluded_embed_metadata_keys=['file_name', 'file_type', 'file_size', 'creation_date', 'last_modified_date', 'last_accessed_date'], excluded_llm_metadata_keys=['file_name', 'file_type', 'file_size', 'creation_date', 'last_modified_date', 'last_accessed_date'], relationships={<NodeRelationship.SOURCE: '1'>: RelatedNodeInfo(node_id='1fc3149a-331b-461e-96c9-36ea7fdfac02', node_type=<ObjectType.DOCUMENT: '4'>, metadata={'page_label': '4', 'file_name': 'JA-063 Brand Transfers  Inquiries for Novartis Patient Support Center.pdf', 'file_path': 'C:\\\\Users\\\\CVHS\\\\pavan\\\\Mistral\\\\Groq\\\\pdfs\\\\JA-063 Brand Transfers  Inquiries for Novartis Patient Support Center.pdf', 'file_type': 'application/pdf', 'file_size': 403801, 'creation_date': '2024-03-27', 'last_modified_date': '2024-03-11'}, hash='f46372d060b7b4fffd981d36b406280cbd936f3d56d961d10208c239ab6423db'), <NodeRelationship.PREVIOUS: '2'>: RelatedNodeInfo(node_id='4a553a28-3362-4e29-9b80-8c8243f46e07', node_type=<ObjectType.TEXT: '1'>, metadata={'page_label': '3', 'file_name': 'JA-063 Brand Transfers  Inquiries for Novartis Patient Support Center.pdf', 'file_path': 'C:\\\\Users\\\\CVHS\\\\pavan\\\\Mistral\\\\Groq\\\\pdfs\\\\JA-063 Brand Transfers  Inquiries for Novartis Patient Support Center.pdf', 'file_type': 'application/pdf', 'file_size': 403801, 'creation_date': '2024-03-27', 'last_modified_date': '2024-03-11'}, hash='89d3436219098b27022705a06c1bdb9a58385b93e60f27562e753c01b63a35e7'), <NodeRelationship.NEXT: '3'>: RelatedNodeInfo(node_id='98990deb-ef73-4cad-8a5f-64c1e9c7a858', node_type=<ObjectType.TEXT: '1'>, metadata={}, hash='708d2dac35f8dba44e09d74a730e068baa0e949330afa40a444616139ae02822')}, text='Job Aid for Intake Specialists, Care Navigators & Patient \\nNavigators for Brand Transfer s & Inquiries for Novartis \\nPatient Support Center  \\nPage 4 of 7 \\nThis JA once downloaded  or printed is an uncontrolled copy  and only effective for 24 hrs.  \\n', start_char_idx=0, end_char_idx=249, text_template='{metadata_str}\\n\\n{content}', metadata_template='{key}: {value}', metadata_seperator='\\n'),\n",
       " TextNode(id_='98990deb-ef73-4cad-8a5f-64c1e9c7a858', embedding=None, metadata={'page_label': '4', 'file_name': 'JA-063 Brand Transfers  Inquiries for Novartis Patient Support Center.pdf', 'file_path': 'C:\\\\Users\\\\CVHS\\\\pavan\\\\Mistral\\\\Groq\\\\pdfs\\\\JA-063 Brand Transfers  Inquiries for Novartis Patient Support Center.pdf', 'file_type': 'application/pdf', 'file_size': 403801, 'creation_date': '2024-03-27', 'last_modified_date': '2024-03-11'}, excluded_embed_metadata_keys=['file_name', 'file_type', 'file_size', 'creation_date', 'last_modified_date', 'last_accessed_date'], excluded_llm_metadata_keys=['file_name', 'file_type', 'file_size', 'creation_date', 'last_modified_date', 'last_accessed_date'], relationships={<NodeRelationship.SOURCE: '1'>: RelatedNodeInfo(node_id='1fc3149a-331b-461e-96c9-36ea7fdfac02', node_type=<ObjectType.DOCUMENT: '4'>, metadata={'page_label': '4', 'file_name': 'JA-063 Brand Transfers  Inquiries for Novartis Patient Support Center.pdf', 'file_path': 'C:\\\\Users\\\\CVHS\\\\pavan\\\\Mistral\\\\Groq\\\\pdfs\\\\JA-063 Brand Transfers  Inquiries for Novartis Patient Support Center.pdf', 'file_type': 'application/pdf', 'file_size': 403801, 'creation_date': '2024-03-27', 'last_modified_date': '2024-03-11'}, hash='f46372d060b7b4fffd981d36b406280cbd936f3d56d961d10208c239ab6423db'), <NodeRelationship.PREVIOUS: '2'>: RelatedNodeInfo(node_id='f0016abc-af3a-43b8-afa6-025e36bab05c', node_type=<ObjectType.TEXT: '1'>, metadata={'page_label': '4', 'file_name': 'JA-063 Brand Transfers  Inquiries for Novartis Patient Support Center.pdf', 'file_path': 'C:\\\\Users\\\\CVHS\\\\pavan\\\\Mistral\\\\Groq\\\\pdfs\\\\JA-063 Brand Transfers  Inquiries for Novartis Patient Support Center.pdf', 'file_type': 'application/pdf', 'file_size': 403801, 'creation_date': '2024-03-27', 'last_modified_date': '2024-03-11'}, hash='4bee8857da52cbeb4a8999186fc1cd13b0a5dfc4b213b5586b0b17b61ef90f69'), <NodeRelationship.NEXT: '3'>: RelatedNodeInfo(node_id='97b8cc1c-dc84-45ef-b160-d3397a09da28', node_type=<ObjectType.TEXT: '1'>, metadata={}, hash='06fe41349dc2d4981dede20f719b6d112fb83fda1c68aa160e03166a4f37b412')}, text='Please refer to the official WPD  repository for the most current and effective version.  \\nBusiness Use Only  \\n ▪ No additional patient or HCP \\ninformation should be included in \\nthe comments  \\nAnonymizing the Record  • Once the fax is sent and has a status of \\n“Delivered”, the agent closes the case  any open \\ncases, and anonymizes the patient record  \\n• Create a SNOW ticket for TT Ops to delete the \\ndocument in the S3 bucket [Refer to WI -072] \\n \\nFax Numbers for Other Novartis Brands (Non -PSC):   \\nBrand ( generic) : Contact Information:  \\nIlaris (cana kinumab)  • Fax Number: 1 -866-972-8316  \\nKesimpta  (ofatumumab)  • Fax Number: 1 -833-318-0680  \\nLeqvio (inclisiran)  • Fax Number: 1-877-537-8468  \\nMayzent ( siponimod)  • Fax Number: 1-877-750-9068  \\nNovartis Patient Support for Oncology  • Fax Number:  1-888-891-4924  \\n \\n6. PROCESS GUIDANCE FOR INBOUND CALLS  \\n \\nScenario: Inbound Call received for Non-Novartis brand  \\n \\nSTEP  PROCESS  \\n1 Confirm caller intent  \\nIF THEN  \\n• Prior to a record being created in Salesforce,  \\ncaller states they are calling in regards to a Non -\\nNovartis brand  • The agent should enter “Anonymous Anonymous” \\nfor the first and last name (no additional \\ninformation should be collected/documented)  \\n• Refer the caller back to their HCP or pharmacy to \\nprovide correct contact information for the non -\\nNovartis brand  \\no If any patient/caregiver information was \\ncollected, anonymize the record  \\n• Sample Comment: “IBC in regards to a Non -\\nNovartis medication, referred the caller back to \\ntheir HCP/pharmacy .” \\n• After a record is created in Salesforce,  caller \\nstates they are calling in regards to a Non -\\nNovartis brand  • Refer the caller back to their HCP  or pharmacy  to \\nprovide correct contact information for the non -\\nNovartis brand  \\n• Once the call is complete, the agent should \\ndocument the reason for the call in the case \\ncomment s and note that the record will be \\nanonymized  \\no Sample Comment: “IBC in regards to a \\nNon-Novartis medication, referred the \\ncaller back to their HCP/pharmacy and \\nanonymized the record”  \\n• Anonymize the record in Salesforce  \\n ', start_char_idx=249, end_char_idx=2381, text_template='{metadata_str}\\n\\n{content}', metadata_template='{key}: {value}', metadata_seperator='\\n'),\n",
       " TextNode(id_='97b8cc1c-dc84-45ef-b160-d3397a09da28', embedding=None, metadata={'page_label': '5', 'file_name': 'JA-063 Brand Transfers  Inquiries for Novartis Patient Support Center.pdf', 'file_path': 'C:\\\\Users\\\\CVHS\\\\pavan\\\\Mistral\\\\Groq\\\\pdfs\\\\JA-063 Brand Transfers  Inquiries for Novartis Patient Support Center.pdf', 'file_type': 'application/pdf', 'file_size': 403801, 'creation_date': '2024-03-27', 'last_modified_date': '2024-03-11'}, excluded_embed_metadata_keys=['file_name', 'file_type', 'file_size', 'creation_date', 'last_modified_date', 'last_accessed_date'], excluded_llm_metadata_keys=['file_name', 'file_type', 'file_size', 'creation_date', 'last_modified_date', 'last_accessed_date'], relationships={<NodeRelationship.SOURCE: '1'>: RelatedNodeInfo(node_id='93b0897d-5444-4a2a-9c15-400a0bfe0fea', node_type=<ObjectType.DOCUMENT: '4'>, metadata={'page_label': '5', 'file_name': 'JA-063 Brand Transfers  Inquiries for Novartis Patient Support Center.pdf', 'file_path': 'C:\\\\Users\\\\CVHS\\\\pavan\\\\Mistral\\\\Groq\\\\pdfs\\\\JA-063 Brand Transfers  Inquiries for Novartis Patient Support Center.pdf', 'file_type': 'application/pdf', 'file_size': 403801, 'creation_date': '2024-03-27', 'last_modified_date': '2024-03-11'}, hash='37070785b4adc508463a05de63bc83f43e93d164a7400c11c7b6ab2d207712f7'), <NodeRelationship.PREVIOUS: '2'>: RelatedNodeInfo(node_id='98990deb-ef73-4cad-8a5f-64c1e9c7a858', node_type=<ObjectType.TEXT: '1'>, metadata={'page_label': '4', 'file_name': 'JA-063 Brand Transfers  Inquiries for Novartis Patient Support Center.pdf', 'file_path': 'C:\\\\Users\\\\CVHS\\\\pavan\\\\Mistral\\\\Groq\\\\pdfs\\\\JA-063 Brand Transfers  Inquiries for Novartis Patient Support Center.pdf', 'file_type': 'application/pdf', 'file_size': 403801, 'creation_date': '2024-03-27', 'last_modified_date': '2024-03-11'}, hash='f2a1be2c119560c1a733a302b0d157f844a52b09d1bad62b19c83df16e931a41'), <NodeRelationship.NEXT: '3'>: RelatedNodeInfo(node_id='65a04246-b620-4851-a008-8f05e198224b', node_type=<ObjectType.TEXT: '1'>, metadata={}, hash='31e9b9068872ddcdcb0d707e5908d8fc27ea65dc2af5f190e6877180c19389b9')}, text='Job Aid for Intake Specialists, Care Navigators & Patient \\nNavigators for Brand Transfer s & Inquiries for Novartis \\nPatient Support Center  \\nPage 5 of 7 \\nThis JA once downloaded  or printed is an uncontrolled copy  and only effective for 24 hrs.  \\n', start_char_idx=0, end_char_idx=249, text_template='{metadata_str}\\n\\n{content}', metadata_template='{key}: {value}', metadata_seperator='\\n'),\n",
       " TextNode(id_='65a04246-b620-4851-a008-8f05e198224b', embedding=None, metadata={'page_label': '5', 'file_name': 'JA-063 Brand Transfers  Inquiries for Novartis Patient Support Center.pdf', 'file_path': 'C:\\\\Users\\\\CVHS\\\\pavan\\\\Mistral\\\\Groq\\\\pdfs\\\\JA-063 Brand Transfers  Inquiries for Novartis Patient Support Center.pdf', 'file_type': 'application/pdf', 'file_size': 403801, 'creation_date': '2024-03-27', 'last_modified_date': '2024-03-11'}, excluded_embed_metadata_keys=['file_name', 'file_type', 'file_size', 'creation_date', 'last_modified_date', 'last_accessed_date'], excluded_llm_metadata_keys=['file_name', 'file_type', 'file_size', 'creation_date', 'last_modified_date', 'last_accessed_date'], relationships={<NodeRelationship.SOURCE: '1'>: RelatedNodeInfo(node_id='93b0897d-5444-4a2a-9c15-400a0bfe0fea', node_type=<ObjectType.DOCUMENT: '4'>, metadata={'page_label': '5', 'file_name': 'JA-063 Brand Transfers  Inquiries for Novartis Patient Support Center.pdf', 'file_path': 'C:\\\\Users\\\\CVHS\\\\pavan\\\\Mistral\\\\Groq\\\\pdfs\\\\JA-063 Brand Transfers  Inquiries for Novartis Patient Support Center.pdf', 'file_type': 'application/pdf', 'file_size': 403801, 'creation_date': '2024-03-27', 'last_modified_date': '2024-03-11'}, hash='37070785b4adc508463a05de63bc83f43e93d164a7400c11c7b6ab2d207712f7'), <NodeRelationship.PREVIOUS: '2'>: RelatedNodeInfo(node_id='97b8cc1c-dc84-45ef-b160-d3397a09da28', node_type=<ObjectType.TEXT: '1'>, metadata={'page_label': '5', 'file_name': 'JA-063 Brand Transfers  Inquiries for Novartis Patient Support Center.pdf', 'file_path': 'C:\\\\Users\\\\CVHS\\\\pavan\\\\Mistral\\\\Groq\\\\pdfs\\\\JA-063 Brand Transfers  Inquiries for Novartis Patient Support Center.pdf', 'file_type': 'application/pdf', 'file_size': 403801, 'creation_date': '2024-03-27', 'last_modified_date': '2024-03-11'}, hash='3f1320321441b36b7aca79b1e33f1c39c68ec5732d893a023a9f1cce487f7f2d'), <NodeRelationship.NEXT: '3'>: RelatedNodeInfo(node_id='f14a9a7e-a574-4e5b-bf4c-9e04dacf90e8', node_type=<ObjectType.TEXT: '1'>, metadata={}, hash='23e6c3d968f4bbfc93b06515446573efbc232b3c4da5357168006b99e56949f6')}, text='Please refer to the official WPD  repository for the most current and effective version.  \\nBusiness Use Only  \\n  \\nScenario: Inbound Call received for other Novartis brand  (Non -PSC)  \\n \\nSTEP  PROCESS  \\n1 Confirm caller intent  \\nIF THEN  \\n• Prior to a record being created in Salesforce,  \\nthe caller states they are calling in regards to a \\nNon-PSC Novartis brand  • The agent should enter “Anonymous Anonymous” \\nfor the first and last name (no additional \\ninformation should be collected/documented)  \\n• If we have the brand’s phone number, provide it \\nand offer to cold transfer  \\n• If we do NOT  have the brand’s phone number , \\nclarify if the caller is looking for a specific \\ndepartment (i.e., CIC, MIC or NPAF). If caller is \\nunsure, offer to provide the CIC phone number \\nand warm transfer  \\n• If for any reason, patient/caregiver information \\nwas collected, anonymize the record  \\n• Sample Comment: “IBC in regards to a Non -\\nNovartis medication, referred the caller back to \\ntheir HCP/pharmacy.”  \\n• After a record is created in Salesforce , the \\ncaller  states they are calling in regards to a Non -\\nPSC Novartis brand  • Provide the phone number for the other Novartis \\nbrand and offer to cold transfer  \\n• Once the call is complete, the agent should \\ndocument the reason for the call in the case \\ncomments and note that the record will be \\nanonymized  \\no Sample Comment: “IBC in regards to a \\nNon-Novartis medication, referred the \\ncaller back to their HCP/pharmacy and \\nanonymized the record”  \\n• Anonymize the record in Salesforce  \\n \\n \\n \\n \\n \\n \\n \\n \\n \\n \\n \\n \\n \\n \\n \\n \\n \\n \\n ', start_char_idx=249, end_char_idx=1834, text_template='{metadata_str}\\n\\n{content}', metadata_template='{key}: {value}', metadata_seperator='\\n'),\n",
       " TextNode(id_='f14a9a7e-a574-4e5b-bf4c-9e04dacf90e8', embedding=None, metadata={'page_label': '6', 'file_name': 'JA-063 Brand Transfers  Inquiries for Novartis Patient Support Center.pdf', 'file_path': 'C:\\\\Users\\\\CVHS\\\\pavan\\\\Mistral\\\\Groq\\\\pdfs\\\\JA-063 Brand Transfers  Inquiries for Novartis Patient Support Center.pdf', 'file_type': 'application/pdf', 'file_size': 403801, 'creation_date': '2024-03-27', 'last_modified_date': '2024-03-11'}, excluded_embed_metadata_keys=['file_name', 'file_type', 'file_size', 'creation_date', 'last_modified_date', 'last_accessed_date'], excluded_llm_metadata_keys=['file_name', 'file_type', 'file_size', 'creation_date', 'last_modified_date', 'last_accessed_date'], relationships={<NodeRelationship.SOURCE: '1'>: RelatedNodeInfo(node_id='3e8d389d-2c4d-473c-bda4-dcdbe4d723a8', node_type=<ObjectType.DOCUMENT: '4'>, metadata={'page_label': '6', 'file_name': 'JA-063 Brand Transfers  Inquiries for Novartis Patient Support Center.pdf', 'file_path': 'C:\\\\Users\\\\CVHS\\\\pavan\\\\Mistral\\\\Groq\\\\pdfs\\\\JA-063 Brand Transfers  Inquiries for Novartis Patient Support Center.pdf', 'file_type': 'application/pdf', 'file_size': 403801, 'creation_date': '2024-03-27', 'last_modified_date': '2024-03-11'}, hash='d4587a6369d2b8ea59612986a93bc823f10335c8672f9d03b46501e829c7b17f'), <NodeRelationship.PREVIOUS: '2'>: RelatedNodeInfo(node_id='65a04246-b620-4851-a008-8f05e198224b', node_type=<ObjectType.TEXT: '1'>, metadata={'page_label': '5', 'file_name': 'JA-063 Brand Transfers  Inquiries for Novartis Patient Support Center.pdf', 'file_path': 'C:\\\\Users\\\\CVHS\\\\pavan\\\\Mistral\\\\Groq\\\\pdfs\\\\JA-063 Brand Transfers  Inquiries for Novartis Patient Support Center.pdf', 'file_type': 'application/pdf', 'file_size': 403801, 'creation_date': '2024-03-27', 'last_modified_date': '2024-03-11'}, hash='8da30553e96b91061d43a433ddc5e827516f1e57d49bba047caa1ffc51fddca1'), <NodeRelationship.NEXT: '3'>: RelatedNodeInfo(node_id='991833db-d46c-4ea4-84f7-b57f4df79e10', node_type=<ObjectType.TEXT: '1'>, metadata={}, hash='02c5f6c72097ebbb19a643de3c5606f2679330b17cd12698d6dbfa14ab5373ef')}, text='Job Aid for Intake Specialists, Care Navigators & Patient \\nNavigators for Brand Transfer s & Inquiries for Novartis \\nPatient Support Center  \\nPage 6 of 7 \\nThis JA once downloaded  or printed is an uncontrolled copy  and only effective for 24 hrs.  \\nPlease refer to the official WPD  repository for the most current and effective version.  \\n', start_char_idx=0, end_char_idx=340, text_template='{metadata_str}\\n\\n{content}', metadata_template='{key}: {value}', metadata_seperator='\\n'),\n",
       " TextNode(id_='991833db-d46c-4ea4-84f7-b57f4df79e10', embedding=None, metadata={'page_label': '6', 'file_name': 'JA-063 Brand Transfers  Inquiries for Novartis Patient Support Center.pdf', 'file_path': 'C:\\\\Users\\\\CVHS\\\\pavan\\\\Mistral\\\\Groq\\\\pdfs\\\\JA-063 Brand Transfers  Inquiries for Novartis Patient Support Center.pdf', 'file_type': 'application/pdf', 'file_size': 403801, 'creation_date': '2024-03-27', 'last_modified_date': '2024-03-11'}, excluded_embed_metadata_keys=['file_name', 'file_type', 'file_size', 'creation_date', 'last_modified_date', 'last_accessed_date'], excluded_llm_metadata_keys=['file_name', 'file_type', 'file_size', 'creation_date', 'last_modified_date', 'last_accessed_date'], relationships={<NodeRelationship.SOURCE: '1'>: RelatedNodeInfo(node_id='3e8d389d-2c4d-473c-bda4-dcdbe4d723a8', node_type=<ObjectType.DOCUMENT: '4'>, metadata={'page_label': '6', 'file_name': 'JA-063 Brand Transfers  Inquiries for Novartis Patient Support Center.pdf', 'file_path': 'C:\\\\Users\\\\CVHS\\\\pavan\\\\Mistral\\\\Groq\\\\pdfs\\\\JA-063 Brand Transfers  Inquiries for Novartis Patient Support Center.pdf', 'file_type': 'application/pdf', 'file_size': 403801, 'creation_date': '2024-03-27', 'last_modified_date': '2024-03-11'}, hash='d4587a6369d2b8ea59612986a93bc823f10335c8672f9d03b46501e829c7b17f'), <NodeRelationship.PREVIOUS: '2'>: RelatedNodeInfo(node_id='f14a9a7e-a574-4e5b-bf4c-9e04dacf90e8', node_type=<ObjectType.TEXT: '1'>, metadata={'page_label': '6', 'file_name': 'JA-063 Brand Transfers  Inquiries for Novartis Patient Support Center.pdf', 'file_path': 'C:\\\\Users\\\\CVHS\\\\pavan\\\\Mistral\\\\Groq\\\\pdfs\\\\JA-063 Brand Transfers  Inquiries for Novartis Patient Support Center.pdf', 'file_type': 'application/pdf', 'file_size': 403801, 'creation_date': '2024-03-27', 'last_modified_date': '2024-03-11'}, hash='cef86b959fb4372cb0942845b11be66c1fb7114380a5b5b36195b79a84ddb783'), <NodeRelationship.NEXT: '3'>: RelatedNodeInfo(node_id='46a62acf-2402-4d96-9a66-d9818350ac23', node_type=<ObjectType.TEXT: '1'>, metadata={}, hash='a0e84119cfddf604d99cd53d11d9412b443c9834922b18fd7d2289f29aec80cd')}, text='Business Use Only  \\n 7. REFERENCE & RELATED DOCUMENTS  \\n*The below list is accurate as of the approval of this document, please refer to the WPD repository for all current \\ndocuments*  \\nDocument #  Name  \\nJA-005 Data Int ake for Cosentyx  \\nJA-033 Data Intake for RLT  \\nJA-043 Fabhalta Data Intake & Missing Information  \\nJA-051  Pre-Intake for Cosentyx  \\nWI-001 Intake for Cosentyx  \\nWI-018 Caller Lookup & Customer Record Creation  \\nWI-028 Reporting a PAE/PTC  \\nWI-072 Pre-Intake  \\nWI-075 Intake for RLT  \\nWI-088 Intake for Fabhalta  \\nWPD -PSS-CEC -001 Potential Adverse Event, Special Scenarios and Technical Complaint  \\n \\n \\n \\n \\n \\n \\n \\n \\n \\n \\n \\n \\n \\n \\n \\n \\n ', start_char_idx=340, end_char_idx=996, text_template='{metadata_str}\\n\\n{content}', metadata_template='{key}: {value}', metadata_seperator='\\n'),\n",
       " TextNode(id_='46a62acf-2402-4d96-9a66-d9818350ac23', embedding=None, metadata={'page_label': '7', 'file_name': 'JA-063 Brand Transfers  Inquiries for Novartis Patient Support Center.pdf', 'file_path': 'C:\\\\Users\\\\CVHS\\\\pavan\\\\Mistral\\\\Groq\\\\pdfs\\\\JA-063 Brand Transfers  Inquiries for Novartis Patient Support Center.pdf', 'file_type': 'application/pdf', 'file_size': 403801, 'creation_date': '2024-03-27', 'last_modified_date': '2024-03-11'}, excluded_embed_metadata_keys=['file_name', 'file_type', 'file_size', 'creation_date', 'last_modified_date', 'last_accessed_date'], excluded_llm_metadata_keys=['file_name', 'file_type', 'file_size', 'creation_date', 'last_modified_date', 'last_accessed_date'], relationships={<NodeRelationship.SOURCE: '1'>: RelatedNodeInfo(node_id='39afdd85-de0f-4d15-b58e-5907824ed79d', node_type=<ObjectType.DOCUMENT: '4'>, metadata={'page_label': '7', 'file_name': 'JA-063 Brand Transfers  Inquiries for Novartis Patient Support Center.pdf', 'file_path': 'C:\\\\Users\\\\CVHS\\\\pavan\\\\Mistral\\\\Groq\\\\pdfs\\\\JA-063 Brand Transfers  Inquiries for Novartis Patient Support Center.pdf', 'file_type': 'application/pdf', 'file_size': 403801, 'creation_date': '2024-03-27', 'last_modified_date': '2024-03-11'}, hash='ab74493e97ae41b99bee9d4175f4de1bb609e61459949211b72820b785a34f95'), <NodeRelationship.PREVIOUS: '2'>: RelatedNodeInfo(node_id='991833db-d46c-4ea4-84f7-b57f4df79e10', node_type=<ObjectType.TEXT: '1'>, metadata={'page_label': '6', 'file_name': 'JA-063 Brand Transfers  Inquiries for Novartis Patient Support Center.pdf', 'file_path': 'C:\\\\Users\\\\CVHS\\\\pavan\\\\Mistral\\\\Groq\\\\pdfs\\\\JA-063 Brand Transfers  Inquiries for Novartis Patient Support Center.pdf', 'file_type': 'application/pdf', 'file_size': 403801, 'creation_date': '2024-03-27', 'last_modified_date': '2024-03-11'}, hash='8a7fca69cd8dd92131f3183141a3759efc3a91626b324d903dc24a1100bb4167'), <NodeRelationship.NEXT: '3'>: RelatedNodeInfo(node_id='a0708cdf-1706-4842-b8c3-4fa859bc19bf', node_type=<ObjectType.TEXT: '1'>, metadata={}, hash='1b77a020eab5acc7e6a54e736265909842dc656fe487cb62f45929867f980a92')}, text='Job Aid for Intake Specialists, Care Navigators & Patient \\nNavigators for Brand Transfer s & Inquiries for Novartis \\nPatient Support Center  \\nPage 7 of 7 \\nThis JA once downloaded  or printed is an uncontrolled copy  and only effective for 24 hrs.  \\nPlease refer to the official WPD  repository for the most current and effective version.  \\n', start_char_idx=0, end_char_idx=340, text_template='{metadata_str}\\n\\n{content}', metadata_template='{key}: {value}', metadata_seperator='\\n'),\n",
       " TextNode(id_='a0708cdf-1706-4842-b8c3-4fa859bc19bf', embedding=None, metadata={'page_label': '7', 'file_name': 'JA-063 Brand Transfers  Inquiries for Novartis Patient Support Center.pdf', 'file_path': 'C:\\\\Users\\\\CVHS\\\\pavan\\\\Mistral\\\\Groq\\\\pdfs\\\\JA-063 Brand Transfers  Inquiries for Novartis Patient Support Center.pdf', 'file_type': 'application/pdf', 'file_size': 403801, 'creation_date': '2024-03-27', 'last_modified_date': '2024-03-11'}, excluded_embed_metadata_keys=['file_name', 'file_type', 'file_size', 'creation_date', 'last_modified_date', 'last_accessed_date'], excluded_llm_metadata_keys=['file_name', 'file_type', 'file_size', 'creation_date', 'last_modified_date', 'last_accessed_date'], relationships={<NodeRelationship.SOURCE: '1'>: RelatedNodeInfo(node_id='39afdd85-de0f-4d15-b58e-5907824ed79d', node_type=<ObjectType.DOCUMENT: '4'>, metadata={'page_label': '7', 'file_name': 'JA-063 Brand Transfers  Inquiries for Novartis Patient Support Center.pdf', 'file_path': 'C:\\\\Users\\\\CVHS\\\\pavan\\\\Mistral\\\\Groq\\\\pdfs\\\\JA-063 Brand Transfers  Inquiries for Novartis Patient Support Center.pdf', 'file_type': 'application/pdf', 'file_size': 403801, 'creation_date': '2024-03-27', 'last_modified_date': '2024-03-11'}, hash='ab74493e97ae41b99bee9d4175f4de1bb609e61459949211b72820b785a34f95'), <NodeRelationship.PREVIOUS: '2'>: RelatedNodeInfo(node_id='46a62acf-2402-4d96-9a66-d9818350ac23', node_type=<ObjectType.TEXT: '1'>, metadata={'page_label': '7', 'file_name': 'JA-063 Brand Transfers  Inquiries for Novartis Patient Support Center.pdf', 'file_path': 'C:\\\\Users\\\\CVHS\\\\pavan\\\\Mistral\\\\Groq\\\\pdfs\\\\JA-063 Brand Transfers  Inquiries for Novartis Patient Support Center.pdf', 'file_type': 'application/pdf', 'file_size': 403801, 'creation_date': '2024-03-27', 'last_modified_date': '2024-03-11'}, hash='a947a480f1ac267cbdffd22f42728437f3a0ba6b2879b82254cad6452b71d681')}, text='Business Use Only  \\n Approvals  \\nRole  Name  Signature  \\nAuthor  Kelsee Fleck   \\n \\n \\n \\nPSC Approver  Sam Ibrahim   \\n \\n \\n \\nPSC Approver  Juan De Los Angeles   \\n \\n \\n \\n \\nJA Version History  \\nVersion #  Description of Change  Author  Version Date  \\n(DDMMMYYYY)  \\n01 New Kelsee Fleck  16FEB2024  \\n ', start_char_idx=340, end_char_idx=633, text_template='{metadata_str}\\n\\n{content}', metadata_template='{key}: {value}', metadata_seperator='\\n')]"
      ]
     },
     "execution_count": 37,
     "metadata": {},
     "output_type": "execute_result"
    }
   ],
   "source": [
    "nodes"
   ]
  },
  {
   "cell_type": "code",
   "execution_count": 39,
   "metadata": {},
   "outputs": [
    {
     "name": "stdout",
     "output_type": "stream",
     "text": [
      "1-877-537-8468\n",
      "\n",
      "The text describes the contact information for Leqvio (inclisiran) as 1-877-537-8468.\n"
     ]
    }
   ],
   "source": [
    "query = \"what is the contact information Leqvio (inclisiran)?\"\n",
    "resp = query_engine.query(query)\n",
    "print(resp.response)\n",
    "\n"
   ]
  },
  {
   "cell_type": "code",
   "execution_count": 30,
   "metadata": {},
   "outputs": [
    {
     "name": "stdout",
     "output_type": "stream",
     "text": [
      "\n",
      "The abbreviations for ISI & PI are Important Safety Information and Prescribing Information, respectively.\n"
     ]
    }
   ],
   "source": [
    "query = \"\"\n",
    "resp = query_engine.query(query)\n",
    "print(resp.response)"
   ]
  },
  {
   "cell_type": "code",
   "execution_count": 34,
   "metadata": {},
   "outputs": [
    {
     "name": "stdout",
     "output_type": "stream",
     "text": [
      "11) The sender's details for the communication regarding TM-044 Fabhalta: Audio ISI & PI Availability are Jack Rivetti and Katie Lander.\n"
     ]
    }
   ],
   "source": [
    "query = \"11)Could you please inform me about the sender's details for the communication regarding TM-044 Fabhalta: Audio ISI & PI Availability?\"\n",
    "resp = query_engine.query(query)\n",
    "print(resp.response)"
   ]
  },
  {
   "cell_type": "code",
   "execution_count": 7,
   "metadata": {},
   "outputs": [
    {
     "name": "stdout",
     "output_type": "stream",
     "text": [
      "The author name associated with the version update on day \"07FEB2024\" for this document is \"Kelsee Fleck\".\n"
     ]
    }
   ],
   "source": [
    "\n",
    "\n",
    "\n",
    "\n",
    "query = \"4)Give me the  author name?\"\n",
    "resp = query_engine.query(query)\n",
    "print(resp.response)"
   ]
  },
  {
   "cell_type": "code",
   "execution_count": 8,
   "metadata": {},
   "outputs": [
    {
     "name": "stdout",
     "output_type": "stream",
     "text": [
      "The scope specified in the document pertains to the NPS PSC and other NPS functions that may require knowledge and training on conducting and monitoring in-person welcome visits as part of the Fabhalta ongoing support program.\n"
     ]
    }
   ],
   "source": [
    "query = \"5)what is the scope mentioned ?\"\n",
    "resp = query_engine.query(query)\n",
    "print(resp.response)\n",
    "\n",
    "\n",
    "#\"What are the steps and actions for Intake Specialist's (IS) case comments?\""
   ]
  },
  {
   "cell_type": "code",
   "execution_count": 9,
   "metadata": {},
   "outputs": [
    {
     "name": "stdout",
     "output_type": "stream",
     "text": [
      "The title for document WPD-NPS-PSC-021\\_A is \"Monitoring Checklist for In-Person Welcome Visits.\"\n"
     ]
    }
   ],
   "source": [
    "query = \"6)what is the document title  mentioned  for document WPD-NPS-PSC-021_Appendix A?\"\n",
    "resp = query_engine.query(query)\n",
    "print(resp.response)"
   ]
  },
  {
   "cell_type": "code",
   "execution_count": 202,
   "metadata": {},
   "outputs": [
    {
     "name": "stdout",
     "output_type": "stream",
     "text": [
      "The introduction or purpose of the document is to provide guidelines for Novartis Patient Support (NPS) Patient Support Center (PSC) associates on conducting and monitoring in-person welcome visits. These visits are part of the Fabhalta (iptacopan) ongoing support program, which focuses on adherence.\n"
     ]
    }
   ],
   "source": [
    "query = \"7)Give me the  introduction/Purpose?\"\n",
    "resp = query_engine.query(query)\n",
    "print(resp.response)"
   ]
  },
  {
   "cell_type": "code",
   "execution_count": 203,
   "metadata": {},
   "outputs": [
    {
     "name": "stdout",
     "output_type": "stream",
     "text": [
      "The abbreviation for AE is Adverse Event. This can be inferred from the context as it is used in the document to refer to a situation related to a patient's health condition.\n"
     ]
    }
   ],
   "source": [
    "query = \"8)what is the abbreviation for AE ?\"\n",
    "resp = query_engine.query(query)\n",
    "print(resp.response)"
   ]
  },
  {
   "cell_type": "code",
   "execution_count": 204,
   "metadata": {},
   "outputs": [
    {
     "name": "stdout",
     "output_type": "stream",
     "text": [
      "During the In-Person Welcome Visit, the Patient Navigator (PN) is expected to follow certain guidelines. Here are the DOs or permitted activities:\n",
      "\n",
      "1. The PN must be dressed professionally.\n",
      "2. The PN should arrive at the location early, find a private location, and ensure that all patient and disease state information is not visible to the public.\n",
      "3. If there is not a place to sit or the location is not conducive to a private discussion, the PN should wait for the patient to arrive and then collectively choose a new public place. The full address of the new location along with the reason for re-locating should be included in the Resilix notes.\n",
      "4. The PN should call the patient via Genesys or, if the location does not have internet, call into the PSC to advise of arrival and location.\n",
      "5. After 30 minutes from the scheduled start time, if the patient doesn’t arrive and the call attempt is unsuccessful, the PN may leave and the visit may be made up with a phone or video call. The unsuccessful visit should be documented in the Resilix notes.\n",
      "6. The PN must validate all patient information prior to start of meeting (HIPAA verification), as they would in an Ongoing Support call.\n",
      "7. The PN will use the Welcome Kit and, as needed, approved call guide(s), FAQs and barriers to ensure that only appropriate items are covered.\n",
      "8. The PN provides patient education using only FUSE-approved materials.\n",
      "9. The PN may provide information that was previously reviewed for patients regarding reimbursement journey (i.e., status of BI and/or CE).\n",
      "10. The PN is to offer ISI, PI & Medication Guide, as required.\n",
      "11. The PN is to document case notes immediately following meeting in Resilix.\n"
     ]
    }
   ],
   "source": [
    "\n",
    "#gfedkaoks\n",
    "\n",
    "\n",
    "query = \"9)what are the  DOs (permitted activities) for Conducting the In  Person Welcome Visit?\"\n",
    "resp = query_engine.query(query)\n",
    "print(resp.response)"
   ]
  },
  {
   "cell_type": "code",
   "execution_count": 205,
   "metadata": {},
   "outputs": [
    {
     "name": "stdout",
     "output_type": "stream",
     "text": [
      "Travel and reimbursement for the In-Person Welcome Visits are subject to standard Novartis guidance. A Novartis company card is provided to the PN for expenses related to travel, hotel, and meals during the visit. The PN should document the expected travel days with Workforce Management to ensure backup coverage. Upon returning to the office, the PN is responsible for documenting and submitting expenses via the Novartis approved reporting tool, following Novartis Expense policies.\n"
     ]
    }
   ],
   "source": [
    "query = \"10)Give me the details about the Travel Logistics &  Reimbursement ?\"\n",
    "resp = query_engine.query(query)\n",
    "print(resp.response)"
   ]
  },
  {
   "cell_type": "code",
   "execution_count": 206,
   "metadata": {},
   "outputs": [
    {
     "name": "stdout",
     "output_type": "stream",
     "text": [
      "During the in-person welcome visit, the Patient Navigator (PN) is expected to be dressed professionally and arrive early at the location to find a private location. The PN should ensure that all patient and disease state information is not visible to the public. If there is not a place to sit or the location is not conducive to a private discussion, the PN should wait for the patient to arrive and then collectively choose a new public place. The full address of the new location along with the reason for re-locating should be included in the Resilix notes. The PN should call the patient via Genesys or call into the PSC to advise of arrival and location. After 30 minutes from the scheduled start time, if the patient doesn't arrive and the call attempt is unsuccessful, the PN may leave and the visit may be made up with a phone or video call. The unsuccessful visit should be documented in the Resilix notes. The PN must validate all patient information prior to start of meeting (HIPAA verification), as they would in an Ongoing Support call. The PN will use the Welcome Kit and as needed, approved call guide(s), FAQs and barriers to ensure that only appropriate items are covered. The PN provides patient education using only FUSE-approved materials. The PN is to document case notes immediately following meeting in Resilix.\n"
     ]
    }
   ],
   "source": [
    "query = \"Could you please provide guidance on what activities are permitted for conducting the in-person welcome visit?\"\n",
    "resp = query_engine.query(query)\n",
    "print(resp.response)"
   ]
  },
  {
   "cell_type": "code",
   "execution_count": 207,
   "metadata": {},
   "outputs": [
    {
     "name": "stdout",
     "output_type": "stream",
     "text": [
      "The training requirements outlined in the document specify that various roles associated with Fabhalta Patient Navigation and PSC Operations must complete certain training types. Fabhalta Patient Navigators are required to complete a \"Read & Understand\" training. Fabhalta PSC Operations (Director, AD & TLs), NPS ERC, NPS PE Analysts for Fabhalta, NPS DST for Fabhalta, and NPS QA are all required to complete \"Read & Understand\" training as well. Additionally, the note at the end of the training requirements section states that if any NPS roles not listed in the training grid assist with monitoring in-person welcome visits, they will need to complete the required training.\n"
     ]
    }
   ],
   "source": [
    "query = \"Could you please provide information on the requirements outlined for training?\"\n",
    "resp = query_engine.query(query)\n",
    "print(resp.response)"
   ]
  },
  {
   "cell_type": "code",
   "execution_count": 208,
   "metadata": {},
   "outputs": [
    {
     "name": "stdout",
     "output_type": "stream",
     "text": [
      "Certainly. For travel logistics, all travel and expenses should adhere to standard Novartis guidance. A Novartis company card will be provided for expenses related to the Patient Navigator's (PN) own travel, hotel, and meals during the In-Person Welcome Visit. The PN should document the expected travel days with Workforce Management to ensure backup coverage. Upon returning to the office, the PN will document and submit expenses via the Novartis-approved reporting tool, following Novartis Expense policies. The PN is responsible for ensuring that all travel and expenses comply with these guidelines. The company card is to be used solely for work-related expenses and should not be used for personal expenses.\n"
     ]
    }
   ],
   "source": [
    "query = \"13)Could you please provide details regarding the logistics of travel and reimbursement processes?\"\n",
    "resp = query_engine.query(query)\n",
    "print(resp.response)"
   ]
  },
  {
   "cell_type": "code",
   "execution_count": 24,
   "metadata": {},
   "outputs": [
    {
     "name": "stdout",
     "output_type": "stream",
     "text": [
      "I'm sorry for the confusion, but the provided context does not contain information related to why we cry when we feel sad. The context only provides information about a Worldwide Process Document (WPD) related to In-Person Welcome Visits for Fabhalta.\n"
     ]
    }
   ],
   "source": [
    "query = \"Why do we get tears when we feel sad?\"\n",
    "resp = query_engine.query(query)\n",
    "print(resp.response)"
   ]
  },
  {
   "cell_type": "code",
   "execution_count": 21,
   "metadata": {},
   "outputs": [
    {
     "name": "stdout",
     "output_type": "stream",
     "text": [
      "Based on the information provided in the context, there is no information or instructions on how to play football. The context is related to a document about In-Person Welcome Visits for a program, and it does not contain any sports-related information.\n"
     ]
    }
   ],
   "source": [
    "query = \"How to play foot Ball ? \"\n",
    "resp = query_engine.query(query)\n",
    "print(resp.response)"
   ]
  },
  {
   "cell_type": "code",
   "execution_count": 214,
   "metadata": {},
   "outputs": [
    {
     "name": "stdout",
     "output_type": "stream",
     "text": [
      "Based on the content provided, this document appears to be a procedural guide for In-Person Welcome Visits (WPD-NPS-PSC-021) for a program called Fabhalta.\n"
     ]
    }
   ],
   "source": [
    "# Who is Narendra Modi?\n",
    "\n",
    "query = \"What is this document name?\"\n",
    "resp = query_engine.query(query)\n",
    "print(resp.response)"
   ]
  },
  {
   "cell_type": "code",
   "execution_count": 194,
   "metadata": {},
   "outputs": [
    {
     "name": "stdout",
     "output_type": "stream",
     "text": [
      "I'm sorry for any confusion, but the provided context information does not contain any data that explains why we might tear up when we feel sad. This is a common question that is typically answered by understanding certain aspects of human physiology and psychology. The tear production associated with emotion is primarily controlled by the limbic system, a group of interconnected regions in the brain that deal with emotions, behaviors, motivation, long-term memory, and olfaction. When we feel strong emotions like sadness, the limbic system can respond by stimulating the lacrimal glands, which produce tears. However, this process is not explained in the context information you provided.\n"
     ]
    }
   ],
   "source": [
    "query = \"Why do we get tears when we feel sad?\"\n",
    "resp = query_engine.query(query)\n",
    "print(resp.response)"
   ]
  },
  {
   "cell_type": "code",
   "execution_count": null,
   "metadata": {},
   "outputs": [],
   "source": []
  }
 ],
 "metadata": {
  "kernelspec": {
   "display_name": "Python 3",
   "language": "python",
   "name": "python3"
  },
  "language_info": {
   "codemirror_mode": {
    "name": "ipython",
    "version": 3
   },
   "file_extension": ".py",
   "mimetype": "text/x-python",
   "name": "python",
   "nbconvert_exporter": "python",
   "pygments_lexer": "ipython3",
   "version": "3.11.4"
  }
 },
 "nbformat": 4,
 "nbformat_minor": 2
}
